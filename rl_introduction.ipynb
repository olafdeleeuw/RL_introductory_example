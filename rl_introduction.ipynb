{
 "cells": [
  {
   "cell_type": "markdown",
   "metadata": {},
   "source": [
    "# Reinforcement Learning: an introductory example"
   ]
  },
  {
   "cell_type": "markdown",
   "metadata": {
    "toc": true
   },
   "source": [
    "<h1>Table of Contents<span class=\"tocSkip\"></span></h1>\n",
    "<div class=\"toc\"><ul class=\"toc-item\"><li><span><a href=\"#Reinforcement-Learning:-an-introductory-example\" data-toc-modified-id=\"Reinforcement-Learning:-an-introductory-example-1\"><span class=\"toc-item-num\">1&nbsp;&nbsp;</span>Reinforcement Learning: an introductory example</a></span><ul class=\"toc-item\"><li><span><a href=\"#Libraries\" data-toc-modified-id=\"Libraries-1.1\"><span class=\"toc-item-num\">1.1&nbsp;&nbsp;</span>Libraries</a></span></li><li><span><a href=\"#Introducing-the-example-network\" data-toc-modified-id=\"Introducing-the-example-network-1.2\"><span class=\"toc-item-num\">1.2&nbsp;&nbsp;</span>Introducing the example network</a></span><ul class=\"toc-item\"><li><span><a href=\"#Import-and-prepare-data\" data-toc-modified-id=\"Import-and-prepare-data-1.2.1\"><span class=\"toc-item-num\">1.2.1&nbsp;&nbsp;</span>Import and prepare data</a></span></li><li><span><a href=\"#Create-graph\" data-toc-modified-id=\"Create-graph-1.2.2\"><span class=\"toc-item-num\">1.2.2&nbsp;&nbsp;</span>Create graph</a></span></li><li><span><a href=\"#Possible-solutions\" data-toc-modified-id=\"Possible-solutions-1.2.3\"><span class=\"toc-item-num\">1.2.3&nbsp;&nbsp;</span>Possible solutions</a></span></li></ul></li><li><span><a href=\"#Demo\" data-toc-modified-id=\"Demo-1.3\"><span class=\"toc-item-num\">1.3&nbsp;&nbsp;</span>Demo</a></span><ul class=\"toc-item\"><li><span><a href=\"#Small-demo-with-500-episodes\" data-toc-modified-id=\"Small-demo-with-500-episodes-1.3.1\"><span class=\"toc-item-num\">1.3.1&nbsp;&nbsp;</span>Small demo with 500 episodes</a></span></li><li><span><a href=\"#Final-result-of-200k-episodes\" data-toc-modified-id=\"Final-result-of-200k-episodes-1.3.2\"><span class=\"toc-item-num\">1.3.2&nbsp;&nbsp;</span>Final result of 200k episodes</a></span></li></ul></li></ul></li></ul></div>"
   ]
  },
  {
   "cell_type": "markdown",
   "metadata": {},
   "source": [
    "## Libraries"
   ]
  },
  {
   "cell_type": "code",
   "execution_count": null,
   "metadata": {},
   "outputs": [],
   "source": [
    "%pip install -r requirements.txt"
   ]
  },
  {
   "cell_type": "code",
   "execution_count": null,
   "metadata": {},
   "outputs": [],
   "source": [
    "%matplotlib inline\n",
    "# import libraries\n",
    "import networkx as nx\n",
    "import matplotlib\n",
    "from RL.input import input_data\n",
    "from RL.execution import execution as rl_exec"
   ]
  },
  {
   "cell_type": "code",
   "execution_count": null,
   "metadata": {},
   "outputs": [],
   "source": [
    "matplotlib.rcParams['figure.figsize'] = [16, 8]"
   ]
  },
  {
   "cell_type": "code",
   "execution_count": null,
   "metadata": {},
   "outputs": [],
   "source": [
    "# load input class\n",
    "grid_data = input_data.InputData()"
   ]
  },
  {
   "cell_type": "markdown",
   "metadata": {},
   "source": [
    "## Introducing the example network   "
   ]
  },
  {
   "cell_type": "markdown",
   "metadata": {},
   "source": [
    "In this notebook we look at a small neighbourhood with one netstation (MSR), 5 houses and a couple of streets connecting the houses with the MSR. First the neighbourhood will be drawn as a network graph with nodes and edges.\n",
    "\n",
    "The goal is develop an algorithm that thinks like an engineer and is capable to design an electrical grid that meets certain constraints."
   ]
  },
  {
   "cell_type": "markdown",
   "metadata": {},
   "source": [
    "### Import and prepare data  "
   ]
  },
  {
   "cell_type": "markdown",
   "metadata": {},
   "source": [
    "Here the grid data is imported and the nodes and edges are converted into a networkx graph. The regular network nodes are plotted in red and the MSR node is shown in blue."
   ]
  },
  {
   "cell_type": "code",
   "execution_count": null,
   "metadata": {},
   "outputs": [],
   "source": [
    "# import csv files and prepare the grid data, i.e. create node and edge list and a positional\n",
    "# dictionary of nodes\n",
    "grid_data.import_csv_as_df()\n",
    "grid_data.prepare_grid_data()"
   ]
  },
  {
   "cell_type": "code",
   "execution_count": null,
   "metadata": {},
   "outputs": [],
   "source": [
    "grid_data.df_edges.head()"
   ]
  },
  {
   "cell_type": "code",
   "execution_count": null,
   "metadata": {},
   "outputs": [],
   "source": [
    "grid_data.df_nodes.head()"
   ]
  },
  {
   "cell_type": "markdown",
   "metadata": {},
   "source": [
    "### Create graph"
   ]
  },
  {
   "cell_type": "markdown",
   "metadata": {},
   "source": [
    "Define a networkx graph object and add nodes and edges to the graph."
   ]
  },
  {
   "cell_type": "code",
   "execution_count": null,
   "metadata": {},
   "outputs": [],
   "source": [
    "grid_data.update_networkx_graph()"
   ]
  },
  {
   "cell_type": "markdown",
   "metadata": {},
   "source": [
    "The data has been prepared. Draw the grid of this easy example neighbourhood to see what it looks like."
   ]
  },
  {
   "cell_type": "code",
   "execution_count": null,
   "metadata": {},
   "outputs": [],
   "source": [
    "nx.draw_networkx_nodes(grid_data.network_graph, \n",
    "                       pos=grid_data.nodes_pos, \n",
    "                       nodelist=grid_data.node_list, node_color='b', node_size=100)\n",
    "nx.draw_networkx_nodes(grid_data.network_graph, \n",
    "                       pos=grid_data.nodes_pos, \n",
    "                       nodelist=grid_data.node_list_msr, node_color='r', node_size=150)\n",
    "nx.draw_networkx_nodes(grid_data.network_graph, \n",
    "                       pos=grid_data.household_nodes_pos, \n",
    "                       nodelist=grid_data.node_list_households, node_color='g', node_size=50)\n",
    "nx.draw_networkx_edges(grid_data.network_graph, \n",
    "                       pos=grid_data.nodes_pos,\n",
    "                       edgelist=grid_data.edge_tuples, edge_color='lightgrey', width=10)"
   ]
  },
  {
   "cell_type": "markdown",
   "metadata": {},
   "source": [
    "### Possible solutions"
   ]
  },
  {
   "cell_type": "markdown",
   "metadata": {},
   "source": [
    "In the real world a net station has a number of free cables which may differ per type of station. This can be 8 for instance, but also 4, 5 or sometimes even 12.\n",
    "In this small neighbourhood example the engineer can only use 2 cables to connect all the 9 houses. He may also use 1 cable if he thinks that's the best option. Some possible solutions are:\n",
    "\n",
    "- Use two cables: one from the MSR to the 5 houses on the left and one from the MSR to the 4 houses on the right.\n",
    "- Use one cable straight ahead and split with an \"aftakmof\" to the left and right.\n",
    "- Use one cable without a \"aftakmof\" but go immediately to the left and follow the road. Here at least three \"verbindingsmoffen\" are needed."
   ]
  },
  {
   "cell_type": "markdown",
   "metadata": {},
   "source": [
    "## Demo"
   ]
  },
  {
   "cell_type": "markdown",
   "metadata": {},
   "source": [
    "### Small demo with 500 episodes"
   ]
  },
  {
   "cell_type": "code",
   "execution_count": null,
   "metadata": {},
   "outputs": [],
   "source": [
    "# set number of epsiodes\n",
    "rl_exec.params.episodes = 500"
   ]
  },
  {
   "cell_type": "code",
   "execution_count": null,
   "metadata": {},
   "outputs": [],
   "source": [
    "# Train the algorithm\n",
    "for t in range(rl_exec.params.episodes):\n",
    "\n",
    "    # run train iteration\n",
    "    rl_exec.train_grid_planning()\n",
    "\n",
    "    # reset\n",
    "    if t % 100 == 0:\n",
    "        print(\"episode: \" + str(t))\n",
    "        print(\"agents reward: \" + str(rl_exec.env.reward))\n",
    "        print(\"cable length: \" + str(rl_exec.env.env_matrix[np.where(rl_exec.env.env_matrix[:, 6] == 1)[0], 4].sum()))\n",
    "        n_moffen = 0\n",
    "        for l in rl_exec.env.cables_used:\n",
    "            n_moffen += rl_exec.env.determine_number_of_moffen(rl_exec.env.env_matrix, rl_exec.env.grid.df_nodes, l)\n",
    "        print(\"number of moffen used: \" + str(n_moffen))\n",
    "        print(\"cables used: \" + str(rl_exec.env.cables_used))\n",
    "        print(\"matrix: \" + str(rl_exec.env.env_matrix))\n",
    "        print(\"max state value: \" + str(max(rl_exec.agent.state_value)))\n",
    "\n",
    "    # reset object for new run\n",
    "    rl_exec.reset_env_elements()"
   ]
  },
  {
   "cell_type": "code",
   "execution_count": null,
   "metadata": {},
   "outputs": [],
   "source": [
    "# show result\n",
    "rl_exec.execute_grid_planning()"
   ]
  },
  {
   "cell_type": "code",
   "execution_count": null,
   "metadata": {},
   "outputs": [],
   "source": [
    "# create graph\n",
    "result = rl_exec.env.env_matrix"
   ]
  },
  {
   "cell_type": "code",
   "execution_count": null,
   "metadata": {},
   "outputs": [],
   "source": [
    "edge_tuples1, edge_tuples2 = grid_data.create_nodes_and_edges_result(result)\n",
    "grid_data.create_cable1_pos()\n",
    "grid_data.create_cable2_pos()"
   ]
  },
  {
   "cell_type": "code",
   "execution_count": null,
   "metadata": {},
   "outputs": [],
   "source": [
    "nx.draw_networkx_nodes(grid_data.network_graph, \n",
    "                       pos=grid_data.nodes_pos, \n",
    "                       nodelist=grid_data.node_list, node_color='b', node_size=100)\n",
    "nx.draw_networkx_nodes(grid_data.network_graph, \n",
    "                       pos=grid_data.nodes_pos, \n",
    "                       nodelist=grid_data.node_list_msr, node_color='r', node_size=150)\n",
    "nx.draw_networkx_nodes(grid_data.network_graph, \n",
    "                       pos=grid_data.household_nodes_pos, \n",
    "                       nodelist=grid_data.node_list_households, node_color='g', node_size=50)\n",
    "nx.draw_networkx_nodes(grid_data.network_graph, \n",
    "                       pos=grid_data.cable1_pos, \n",
    "                       nodelist=[8,9,10,11,12,13,14], node_color='purple', node_size=50)\n",
    "nx.draw_networkx_nodes(grid_data.network_graph, \n",
    "                       pos=grid_data.cable2_pos, \n",
    "                       nodelist=[14,15,16,17,18,19,20], node_color='orange', node_size=50)\n",
    "nx.draw_networkx_edges(grid_data.network_graph, \n",
    "                       pos=grid_data.cable1_pos,\n",
    "                       edgelist=edge_tuples1, edge_color='purple', width=2)\n",
    "nx.draw_networkx_edges(grid_data.network_graph, \n",
    "                       pos=grid_data.cable2_pos,\n",
    "                       edgelist=edge_tuples2, edge_color='orange', width=2)"
   ]
  },
  {
   "cell_type": "markdown",
   "metadata": {},
   "source": [
    "### Final result of 200k episodes"
   ]
  },
  {
   "cell_type": "code",
   "execution_count": null,
   "metadata": {},
   "outputs": [],
   "source": [
    "final_result = np.asmatrix(np.load(\"data/matrix_result.npy\"))"
   ]
  },
  {
   "cell_type": "code",
   "execution_count": null,
   "metadata": {},
   "outputs": [],
   "source": [
    "final_result"
   ]
  },
  {
   "cell_type": "code",
   "execution_count": null,
   "metadata": {},
   "outputs": [],
   "source": [
    "edge_tuples1, edge_tuples2 = grid_data.create_nodes_and_edges_result(final_result)\n",
    "grid_data.create_cable1_pos()\n",
    "grid_data.create_cable2_pos()"
   ]
  },
  {
   "cell_type": "code",
   "execution_count": null,
   "metadata": {},
   "outputs": [],
   "source": [
    "nx.draw_networkx_nodes(grid_data.network_graph, \n",
    "                       pos=grid_data.nodes_pos, \n",
    "                       nodelist=grid_data.node_list, node_color='b', node_size=100)\n",
    "nx.draw_networkx_nodes(grid_data.network_graph, \n",
    "                       pos=grid_data.nodes_pos, \n",
    "                       nodelist=grid_data.node_list_msr, node_color='r', node_size=150)\n",
    "nx.draw_networkx_nodes(grid_data.network_graph, \n",
    "                       pos=grid_data.household_nodes_pos, \n",
    "                       nodelist=grid_data.node_list_households, node_color='g', node_size=50)\n",
    "nx.draw_networkx_nodes(grid_data.network_graph, \n",
    "                       pos=grid_data.cable1_pos, \n",
    "                       nodelist=[8,9,10,11,12,13,14], node_color='purple', node_size=50)\n",
    "nx.draw_networkx_nodes(grid_data.network_graph, \n",
    "                       pos=grid_data.cable2_pos, \n",
    "                       nodelist=[14,15,16,17,18,19,20], node_color='orange', node_size=50)\n",
    "nx.draw_networkx_edges(grid_data.network_graph, \n",
    "                       pos=grid_data.cable1_pos,\n",
    "                       edgelist=edge_tuples1, edge_color='purple', width=2)\n",
    "nx.draw_networkx_edges(grid_data.network_graph, \n",
    "                       pos=grid_data.cable2_pos,\n",
    "                       edgelist=edge_tuples2, edge_color='orange', width=2)"
   ]
  }
 ],
 "metadata": {
  "kernelspec": {
   "display_name": "Python 3",
   "language": "python",
   "name": "python3"
  },
  "language_info": {
   "codemirror_mode": {
    "name": "ipython",
    "version": 3
   },
   "file_extension": ".py",
   "mimetype": "text/x-python",
   "name": "python",
   "nbconvert_exporter": "python",
   "pygments_lexer": "ipython3",
   "version": "3.9.1"
  },
  "toc": {
   "base_numbering": 1,
   "nav_menu": {},
   "number_sections": true,
   "sideBar": true,
   "skip_h1_title": false,
   "title_cell": "Table of Contents",
   "title_sidebar": "Contents",
   "toc_cell": true,
   "toc_position": {
    "height": "calc(100% - 180px)",
    "left": "10px",
    "top": "150px",
    "width": "336px"
   },
   "toc_section_display": true,
   "toc_window_display": true
  },
  "varInspector": {
   "cols": {
    "lenName": 16,
    "lenType": 16,
    "lenVar": 40
   },
   "kernels_config": {
    "python": {
     "delete_cmd_postfix": "",
     "delete_cmd_prefix": "del ",
     "library": "var_list.py",
     "varRefreshCmd": "print(var_dic_list())"
    },
    "r": {
     "delete_cmd_postfix": ") ",
     "delete_cmd_prefix": "rm(",
     "library": "var_list.r",
     "varRefreshCmd": "cat(var_dic_list()) "
    }
   },
   "types_to_exclude": [
    "module",
    "function",
    "builtin_function_or_method",
    "instance",
    "_Feature"
   ],
   "window_display": false
  }
 },
 "nbformat": 4,
 "nbformat_minor": 2
}
