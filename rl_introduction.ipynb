{
 "cells": [
  {
   "cell_type": "markdown",
   "metadata": {},
   "source": [
    "# Reinforcement Learning: an introductory example"
   ]
  },
  {
   "cell_type": "markdown",
   "metadata": {
    "toc": true
   },
   "source": [
    "<h1>Table of Contents<span class=\"tocSkip\"></span></h1>\n",
    "<div class=\"toc\"><ul class=\"toc-item\"><li><span><a href=\"#Reinforcement-Learning:-an-introductory-example\" data-toc-modified-id=\"Reinforcement-Learning:-an-introductory-example-1\"><span class=\"toc-item-num\">1&nbsp;&nbsp;</span>Reinforcement Learning: an introductory example</a></span><ul class=\"toc-item\"><li><span><a href=\"#Libraries\" data-toc-modified-id=\"Libraries-1.1\"><span class=\"toc-item-num\">1.1&nbsp;&nbsp;</span>Libraries</a></span></li><li><span><a href=\"#Introducing-the-example-network\" data-toc-modified-id=\"Introducing-the-example-network-1.2\"><span class=\"toc-item-num\">1.2&nbsp;&nbsp;</span>Introducing the example network</a></span><ul class=\"toc-item\"><li><span><a href=\"#Import-and-prepare-data\" data-toc-modified-id=\"Import-and-prepare-data-1.2.1\"><span class=\"toc-item-num\">1.2.1&nbsp;&nbsp;</span>Import and prepare data</a></span></li><li><span><a href=\"#Create-graph\" data-toc-modified-id=\"Create-graph-1.2.2\"><span class=\"toc-item-num\">1.2.2&nbsp;&nbsp;</span>Create graph</a></span></li></ul></li></ul></li></ul></div>"
   ]
  },
  {
   "cell_type": "markdown",
   "metadata": {},
   "source": [
    "## Libraries"
   ]
  },
  {
   "cell_type": "code",
   "execution_count": null,
   "metadata": {},
   "outputs": [],
   "source": [
    "%matplotlib inline\n",
    "# import libraries\n",
    "import networkx as nx\n",
    "import matplotlib\n",
    "from RL.input import input_data"
   ]
  },
  {
   "cell_type": "code",
   "execution_count": null,
   "metadata": {},
   "outputs": [],
   "source": [
    "# load input class\n",
    "grid_data = input_data.InputData()"
   ]
  },
  {
   "cell_type": "markdown",
   "metadata": {},
   "source": [
    "## Introducing the example network   "
   ]
  },
  {
   "cell_type": "markdown",
   "metadata": {},
   "source": [
    "In this notebook we look at a small neighbourhood with one netstation (MSR), 5 houses and a couple of streets connecting the houses with the MSR. First the neighbourhood will be drawn as a network graph with nodes and edges.\n",
    "\n",
    "The goal is develop an algorithm that thinks like an engineer and is capable to design an electrical grid that meets certain constraints."
   ]
  },
  {
   "cell_type": "markdown",
   "metadata": {},
   "source": [
    "### Import and prepare data  "
   ]
  },
  {
   "cell_type": "markdown",
   "metadata": {},
   "source": [
    "Here the grid data is imported and the nodes and edges are converted into a networkx graph. The regular network nodes are plotted in red and the MSR node is shown in blue."
   ]
  },
  {
   "cell_type": "code",
   "execution_count": null,
   "metadata": {},
   "outputs": [],
   "source": [
    "# import csv files and prepare the grid data, i.e. create node and edge list and a positional\n",
    "# dictionary of nodes\n",
    "grid_data.import_csv_as_df()\n",
    "grid_data.prepare_grid_data()"
   ]
  },
  {
   "cell_type": "code",
   "execution_count": null,
   "metadata": {},
   "outputs": [],
   "source": [
    "grid_data.df_edges.head()"
   ]
  },
  {
   "cell_type": "code",
   "execution_count": null,
   "metadata": {},
   "outputs": [],
   "source": [
    "grid_data.df_nodes.head()"
   ]
  },
  {
   "cell_type": "markdown",
   "metadata": {},
   "source": [
    "### Create graph"
   ]
  },
  {
   "cell_type": "markdown",
   "metadata": {},
   "source": [
    "Define a networkx graph object and add nodes and edges to the graph."
   ]
  },
  {
   "cell_type": "code",
   "execution_count": null,
   "metadata": {},
   "outputs": [],
   "source": [
    "grid_data.update_networkx_graph()"
   ]
  },
  {
   "cell_type": "markdown",
   "metadata": {},
   "source": [
    "The data has been prepared. Draw the grid of this easy example neighbourhood to see what it looks like."
   ]
  },
  {
   "cell_type": "code",
   "execution_count": null,
   "metadata": {},
   "outputs": [],
   "source": [
    "nx.draw_networkx_nodes(grid_data.network_graph, \n",
    "                       pos=grid_data.nodes_pos, \n",
    "                       nodelist=grid_data.node_list, node_color='b', node_size=100)\n",
    "nx.draw_networkx_nodes(grid_data.network_graph, \n",
    "                       pos=grid_data.nodes_pos, \n",
    "                       nodelist=grid_data.node_list_msr, node_color='r', node_size=150)\n",
    "nx.draw_networkx_nodes(grid_data.network_graph, \n",
    "                       pos=grid_data.household_nodes_pos, \n",
    "                       nodelist=grid_data.node_list_households, node_color='g', node_size=50)\n",
    "nx.draw_networkx_edges(grid_data.network_graph, \n",
    "                       pos=grid_data.nodes_pos,\n",
    "                       edgelist=grid_data.edge_tuples)"
   ]
  }
 ],
 "metadata": {
  "kernelspec": {
   "display_name": "Python 3",
   "language": "python",
   "name": "python3"
  },
  "language_info": {
   "codemirror_mode": {
    "name": "ipython",
    "version": 3
   },
   "file_extension": ".py",
   "mimetype": "text/x-python",
   "name": "python",
   "nbconvert_exporter": "python",
   "pygments_lexer": "ipython3",
   "version": "3.7.4"
  },
  "toc": {
   "base_numbering": 1,
   "nav_menu": {},
   "number_sections": true,
   "sideBar": true,
   "skip_h1_title": false,
   "title_cell": "Table of Contents",
   "title_sidebar": "Contents",
   "toc_cell": true,
   "toc_position": {
    "height": "calc(100% - 180px)",
    "left": "10px",
    "top": "150px",
    "width": "336px"
   },
   "toc_section_display": true,
   "toc_window_display": true
  },
  "varInspector": {
   "cols": {
    "lenName": 16,
    "lenType": 16,
    "lenVar": 40
   },
   "kernels_config": {
    "python": {
     "delete_cmd_postfix": "",
     "delete_cmd_prefix": "del ",
     "library": "var_list.py",
     "varRefreshCmd": "print(var_dic_list())"
    },
    "r": {
     "delete_cmd_postfix": ") ",
     "delete_cmd_prefix": "rm(",
     "library": "var_list.r",
     "varRefreshCmd": "cat(var_dic_list()) "
    }
   },
   "types_to_exclude": [
    "module",
    "function",
    "builtin_function_or_method",
    "instance",
    "_Feature"
   ],
   "window_display": false
  }
 },
 "nbformat": 4,
 "nbformat_minor": 2
}
